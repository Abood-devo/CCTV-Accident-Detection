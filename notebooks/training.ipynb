{
 "cells": [
  {
   "cell_type": "markdown",
   "metadata": {},
   "source": [
    "# Training"
   ]
  },
  {
   "cell_type": "code",
   "execution_count": 8,
   "metadata": {
    "_cell_guid": "b1076dfc-b9ad-4769-8c92-a6c4dae69d19",
    "_uuid": "8f2839f25d086af736a60e9eeb907d3b93b6e0e5",
    "execution": {
     "iopub.execute_input": "2024-12-22T18:49:40.936813Z",
     "iopub.status.busy": "2024-12-22T18:49:40.936147Z",
     "iopub.status.idle": "2024-12-22T18:49:44.354768Z",
     "shell.execute_reply": "2024-12-22T18:49:44.354060Z",
     "shell.execute_reply.started": "2024-12-22T18:49:40.936783Z"
    },
    "trusted": true
   },
   "outputs": [
    {
     "name": "stdout",
     "output_type": "stream",
     "text": [
      "Ultralytics 8.3.40 🚀 Python-3.11.11 torch-2.5.1 CUDA:0 (Quadro RTX 5000, 16088MiB)\n",
      "Setup complete ✅ (64 CPUs, 188.4 GB RAM, 235.8/294.2 GB disk)\n"
     ]
    }
   ],
   "source": [
    "import os\n",
    "import torch\n",
    "\n",
    "# Set CUDA device order\n",
    "os.environ[\"CUDA_DEVICE_ORDER\"] = \"PCI_BUS_ID\"\n",
    "\n",
    "# Enable both GPUs (adjust indices if needed)\n",
    "os.environ[\"CUDA_VISIBLE_DEVICES\"] = \"0,1\"\n",
    "\n",
    "# Verify GPU count\n",
    "print(f\"Available GPUs: {torch.cuda.device_count()}\")\n",
    "\n",
    "import ultralytics\n",
    "ultralytics.checks()"
   ]
  },
  {
   "cell_type": "code",
   "execution_count": null,
   "metadata": {
    "execution": {
     "iopub.execute_input": "2024-12-22T19:04:44.535216Z",
     "iopub.status.busy": "2024-12-22T19:04:44.534348Z"
    },
    "scrolled": true,
    "trusted": true
   },
   "outputs": [
    {
     "name": "stdout",
     "output_type": "stream",
     "text": [
      "Downloading https://github.com/ultralytics/assets/releases/download/v8.3.0/yolo11m.pt to 'yolo11m.pt'...\n"
     ]
    },
    {
     "name": "stderr",
     "output_type": "stream",
     "text": [
      "100%|██████████| 38.8M/38.8M [00:00<00:00, 170MB/s]\n"
     ]
    },
    {
     "name": "stdout",
     "output_type": "stream",
     "text": [
      "Ultralytics 8.3.53 🚀 Python-3.10.13 torch-2.1.2 CUDA:0 (Tesla T4, 15095MiB)\n",
      "                                                 CUDA:1 (Tesla T4, 15095MiB)\n",
      "\u001b[34m\u001b[1mengine/trainer: \u001b[0mtask=detect, mode=train, model=yolo11m.pt, data=data.yaml, epochs=150, time=None, patience=100, batch=16, imgsz=640, save=True, save_period=-1, cache=False, device=[0, 1], workers=8, project=None, name=train, exist_ok=False, pretrained=True, optimizer=auto, verbose=True, seed=0, deterministic=True, single_cls=False, rect=False, cos_lr=False, close_mosaic=10, resume=False, amp=True, fraction=1.0, profile=False, freeze=None, multi_scale=False, overlap_mask=True, mask_ratio=4, dropout=0.0, val=True, split=val, save_json=False, save_hybrid=False, conf=None, iou=0.7, max_det=300, half=False, dnn=False, plots=True, source=None, vid_stride=1, stream_buffer=False, visualize=False, augment=False, agnostic_nms=False, classes=None, retina_masks=False, embed=None, show=False, save_frames=False, save_txt=False, save_conf=False, save_crop=False, show_labels=True, show_conf=True, show_boxes=True, line_width=None, format=torchscript, keras=False, optimize=False, int8=False, dynamic=False, simplify=True, opset=None, workspace=None, nms=False, lr0=0.01, lrf=0.01, momentum=0.937, weight_decay=0.0005, warmup_epochs=3.0, warmup_momentum=0.8, warmup_bias_lr=0.1, box=7.5, cls=0.5, dfl=1.5, pose=12.0, kobj=1.0, nbs=64, hsv_h=0.015, hsv_s=0.7, hsv_v=0.4, degrees=0.0, translate=0.1, scale=0.5, shear=0.0, perspective=0.0, flipud=0.0, fliplr=0.5, bgr=0.0, mosaic=1.0, mixup=0.0, copy_paste=0.0, copy_paste_mode=flip, auto_augment=randaugment, erasing=0.4, crop_fraction=1.0, cfg=None, tracker=botsort.yaml, save_dir=runs/detect/train\n",
      "Downloading https://ultralytics.com/assets/Arial.ttf to '/root/.config/Ultralytics/Arial.ttf'...\n"
     ]
    },
    {
     "name": "stderr",
     "output_type": "stream",
     "text": [
      "100%|██████████| 755k/755k [00:00<00:00, 17.4MB/s]\n",
      "2024-12-22 19:04:46,485\tINFO util.py:124 -- Outdated packages:\n",
      "  ipywidgets==7.7.1 found, needs ipywidgets>=8\n",
      "Run `pip install -U ipywidgets`, then restart the notebook server for rich notebook output.\n"
     ]
    },
    {
     "name": "stdout",
     "output_type": "stream",
     "text": [
      "Overriding model.yaml nc=80 with nc=4\n",
      "\n",
      "                   from  n    params  module                                       arguments                     \n",
      "  0                  -1  1      1856  ultralytics.nn.modules.conv.Conv             [3, 64, 3, 2]                 \n",
      "  1                  -1  1     73984  ultralytics.nn.modules.conv.Conv             [64, 128, 3, 2]               \n",
      "  2                  -1  1    111872  ultralytics.nn.modules.block.C3k2            [128, 256, 1, True, 0.25]     \n",
      "  3                  -1  1    590336  ultralytics.nn.modules.conv.Conv             [256, 256, 3, 2]              \n",
      "  4                  -1  1    444928  ultralytics.nn.modules.block.C3k2            [256, 512, 1, True, 0.25]     \n",
      "  5                  -1  1   2360320  ultralytics.nn.modules.conv.Conv             [512, 512, 3, 2]              \n",
      "  6                  -1  1   1380352  ultralytics.nn.modules.block.C3k2            [512, 512, 1, True]           \n",
      "  7                  -1  1   2360320  ultralytics.nn.modules.conv.Conv             [512, 512, 3, 2]              \n",
      "  8                  -1  1   1380352  ultralytics.nn.modules.block.C3k2            [512, 512, 1, True]           \n",
      "  9                  -1  1    656896  ultralytics.nn.modules.block.SPPF            [512, 512, 5]                 \n",
      " 10                  -1  1    990976  ultralytics.nn.modules.block.C2PSA           [512, 512, 1]                 \n",
      " 11                  -1  1         0  torch.nn.modules.upsampling.Upsample         [None, 2, 'nearest']          \n",
      " 12             [-1, 6]  1         0  ultralytics.nn.modules.conv.Concat           [1]                           \n",
      " 13                  -1  1   1642496  ultralytics.nn.modules.block.C3k2            [1024, 512, 1, True]          \n",
      " 14                  -1  1         0  torch.nn.modules.upsampling.Upsample         [None, 2, 'nearest']          \n",
      " 15             [-1, 4]  1         0  ultralytics.nn.modules.conv.Concat           [1]                           \n",
      " 16                  -1  1    542720  ultralytics.nn.modules.block.C3k2            [1024, 256, 1, True]          \n",
      " 17                  -1  1    590336  ultralytics.nn.modules.conv.Conv             [256, 256, 3, 2]              \n",
      " 18            [-1, 13]  1         0  ultralytics.nn.modules.conv.Concat           [1]                           \n",
      " 19                  -1  1   1511424  ultralytics.nn.modules.block.C3k2            [768, 512, 1, True]           \n",
      " 20                  -1  1   2360320  ultralytics.nn.modules.conv.Conv             [512, 512, 3, 2]              \n",
      " 21            [-1, 10]  1         0  ultralytics.nn.modules.conv.Concat           [1]                           \n",
      " 22                  -1  1   1642496  ultralytics.nn.modules.block.C3k2            [1024, 512, 1, True]          \n",
      " 23        [16, 19, 22]  1   1414108  ultralytics.nn.modules.head.Detect           [4, [256, 512, 512]]          \n",
      "YOLO11m summary: 409 layers, 20,056,092 parameters, 20,056,076 gradients, 68.2 GFLOPs\n",
      "\n",
      "Transferred 643/649 items from pretrained weights\n",
      "\u001b[34m\u001b[1mDDP:\u001b[0m debug command /opt/conda/bin/python3.10 -m torch.distributed.run --nproc_per_node 2 --master_port 40437 /root/.config/Ultralytics/DDP/_temp_4fa8kog_139996663879840.py\n",
      "Ultralytics 8.3.53 🚀 Python-3.10.13 torch-2.1.2 CUDA:0 (Tesla T4, 15095MiB)\n",
      "                                                 CUDA:1 (Tesla T4, 15095MiB)\n",
      "\u001b[34m\u001b[1mTensorBoard: \u001b[0mStart with 'tensorboard --logdir runs/detect/train', view at http://localhost:6006/\n",
      "Overriding model.yaml nc=80 with nc=4\n",
      "Transferred 643/649 items from pretrained weights\n",
      "Freezing layer 'model.23.dfl.conv.weight'\n",
      "\u001b[34m\u001b[1mAMP: \u001b[0mrunning Automatic Mixed Precision (AMP) checks...\n",
      "Downloading https://github.com/ultralytics/assets/releases/download/v8.3.0/yolo11n.pt to 'yolo11n.pt'...\n"
     ]
    },
    {
     "name": "stderr",
     "output_type": "stream",
     "text": [
      "100%|██████████| 5.35M/5.35M [00:00<00:00, 74.2MB/s]\n"
     ]
    },
    {
     "name": "stdout",
     "output_type": "stream",
     "text": [
      "\u001b[34m\u001b[1mAMP: \u001b[0mchecks passed ✅\n"
     ]
    },
    {
     "name": "stderr",
     "output_type": "stream",
     "text": [
      "\u001b[34m\u001b[1mtrain: \u001b[0mScanning /kaggle/working/train/labels... 8304 images, 36 backgrounds, 0 corrupt: 100%|██████████| 8304/8304 [00:05<00:00, 1396.41it/s]\n"
     ]
    },
    {
     "name": "stdout",
     "output_type": "stream",
     "text": [
      "\u001b[34m\u001b[1mtrain: \u001b[0mNew cache created: /kaggle/working/train/labels.cache\n",
      "\u001b[34m\u001b[1malbumentations: \u001b[0mBlur(p=0.01, blur_limit=(3, 7)), MedianBlur(p=0.01, blur_limit=(3, 7)), ToGray(p=0.01), CLAHE(p=0.01, clip_limit=(1, 4.0), tile_grid_size=(8, 8))\n"
     ]
    },
    {
     "name": "stderr",
     "output_type": "stream",
     "text": [
      "/opt/conda/lib/python3.10/multiprocessing/popen_fork.py:66: RuntimeWarning: os.fork() was called. os.fork() is incompatible with multithreaded code, and JAX is multithreaded, so this will likely lead to a deadlock.\n",
      "  self.pid = os.fork()\n",
      "\u001b[34m\u001b[1mval: \u001b[0mScanning /kaggle/working/valid/labels... 778 images, 1 backgrounds, 0 corrupt: 100%|██████████| 778/778 [00:00<00:00, 1593.91it/s]\n"
     ]
    },
    {
     "name": "stdout",
     "output_type": "stream",
     "text": [
      "\u001b[34m\u001b[1mval: \u001b[0mNew cache created: /kaggle/working/valid/labels.cache\n",
      "Plotting labels to runs/detect/train/labels.jpg... \n",
      "\u001b[34m\u001b[1moptimizer:\u001b[0m 'optimizer=auto' found, ignoring 'lr0=0.01' and 'momentum=0.937' and determining best 'optimizer', 'lr0' and 'momentum' automatically... \n",
      "\u001b[34m\u001b[1moptimizer:\u001b[0m SGD(lr=0.01, momentum=0.9) with parameter groups 106 weight(decay=0.0), 113 weight(decay=0.0005), 112 bias(decay=0.0)\n",
      "\u001b[34m\u001b[1mTensorBoard: \u001b[0mmodel graph visualization added ✅\n",
      "Image sizes 640 train, 640 val\n",
      "Using 4 dataloader workers\n",
      "Logging results to \u001b[1mruns/detect/train\u001b[0m\n",
      "Starting training for 150 epochs...\n",
      "\n",
      "      Epoch    GPU_mem   box_loss   cls_loss   dfl_loss  Instances       Size\n"
     ]
    },
    {
     "name": "stderr",
     "output_type": "stream",
     "text": [
      "      1/150       5.2G     0.8053      1.844      1.252         14        640: 100%|██████████| 519/519 [02:49<00:00,  3.06it/s]\n",
      "                 Class     Images  Instances      Box(P          R      mAP50  mAP50-95): 100%|██████████| 49/49 [00:12<00:00,  3.83it/s]\n"
     ]
    },
    {
     "name": "stdout",
     "output_type": "stream",
     "text": [
      "                   all        778        795      0.755      0.634       0.72      0.545\n",
      "\n",
      "      Epoch    GPU_mem   box_loss   cls_loss   dfl_loss  Instances       Size\n"
     ]
    },
    {
     "name": "stderr",
     "output_type": "stream",
     "text": [
      "      2/150      5.13G     0.7502      1.088      1.194         13        640: 100%|██████████| 519/519 [02:49<00:00,  3.06it/s]\n",
      "                 Class     Images  Instances      Box(P          R      mAP50  mAP50-95): 100%|██████████| 49/49 [00:11<00:00,  4.15it/s]\n"
     ]
    },
    {
     "name": "stdout",
     "output_type": "stream",
     "text": [
      "                   all        778        795      0.795      0.549      0.713      0.526\n",
      "\n",
      "      Epoch    GPU_mem   box_loss   cls_loss   dfl_loss  Instances       Size\n"
     ]
    },
    {
     "name": "stderr",
     "output_type": "stream",
     "text": [
      "      3/150      5.13G     0.8429       1.09      1.251         18        640:  13%|█▎        | 70/519 [00:22<02:26,  3.06it/s]"
     ]
    }
   ],
   "source": [
    "from ultralytics import YOLO\n",
    "\n",
    "# Load a model\n",
    "model = YOLO(\"yolo11s.pt\")\n",
    "\n",
    "# Train the model\n",
    "results = model.train(data=\"data.yaml\", epochs=150, imgsz=640, device=[0,1])\n",
    "\n",
    "# Export the model\n",
    "model.export(format=\"onnx\")\n",
    "model.export()\n"
   ]
  },
  {
   "cell_type": "code",
   "execution_count": 11,
   "metadata": {
    "execution": {
     "iopub.execute_input": "2024-12-23T06:37:11.643276Z",
     "iopub.status.busy": "2024-12-23T06:37:11.642681Z",
     "iopub.status.idle": "2024-12-23T06:37:24.501306Z",
     "shell.execute_reply": "2024-12-23T06:37:24.500420Z",
     "shell.execute_reply.started": "2024-12-23T06:37:11.643244Z"
    },
    "trusted": true
   },
   "outputs": [
    {
     "name": "stderr",
     "output_type": "stream",
     "text": [
      "RuntimeWarning: os.fork() was called. os.fork() is incompatible with multithreaded code, and JAX is multithreaded, so this will likely lead to a deadlock.\n"
     ]
    },
    {
     "name": "stdout",
     "output_type": "stream",
     "text": [
      "  adding: runs/ (stored 0%)\n",
      "  adding: runs/detect/ (stored 0%)\n",
      "  adding: runs/detect/train/ (stored 0%)\n",
      "  adding: runs/detect/train/val_batch1_labels.jpg (deflated 8%)\n",
      "  adding: runs/detect/train/F1_curve.png (deflated 14%)\n",
      "  adding: runs/detect/train/events.out.tfevents.1734894295.a76509090434.262.0 (deflated 89%)\n",
      "  adding: runs/detect/train/R_curve.png (deflated 14%)\n",
      "  adding: runs/detect/train/results.png (deflated 9%)\n",
      "  adding: runs/detect/train/results.csv (deflated 63%)\n",
      "  adding: runs/detect/train/P_curve.png (deflated 20%)\n",
      "  adding: runs/detect/train/weights/ (stored 0%)\n",
      "  adding: runs/detect/train/weights/best.pt (deflated 8%)\n",
      "  adding: runs/detect/train/weights/last.pt (deflated 8%)\n",
      "  adding: runs/detect/train/weights/best.torchscript (deflated 16%)\n",
      "  adding: runs/detect/train/weights/best.onnx (deflated 16%)\n",
      "  adding: runs/detect/train/train_batch0.jpg (deflated 3%)\n",
      "  adding: runs/detect/train/labels.jpg (deflated 31%)\n",
      "  adding: runs/detect/train/PR_curve.png (deflated 19%)\n",
      "  adding: runs/detect/train/val_batch2_pred.jpg (deflated 11%)\n",
      "  adding: runs/detect/train/val_batch1_pred.jpg (deflated 8%)\n",
      "  adding: runs/detect/train/train_batch72660.jpg (deflated 8%)\n",
      "  adding: runs/detect/train/train_batch2.jpg (deflated 4%)\n",
      "  adding: runs/detect/train/confusion_matrix_normalized.png (deflated 27%)\n",
      "  adding: runs/detect/train/train_batch72662.jpg (deflated 5%)\n",
      "  adding: runs/detect/train/labels_correlogram.jpg (deflated 33%)\n",
      "  adding: runs/detect/train/train_batch72661.jpg (deflated 6%)\n",
      "  adding: runs/detect/train/val_batch0_pred.jpg (deflated 8%)\n",
      "  adding: runs/detect/train/train_batch1.jpg (deflated 3%)\n",
      "  adding: runs/detect/train/args.yaml (deflated 53%)\n",
      "  adding: runs/detect/train/val_batch0_labels.jpg (deflated 8%)\n",
      "  adding: runs/detect/train/val_batch2_labels.jpg (deflated 11%)\n",
      "  adding: runs/detect/train/confusion_matrix.png (deflated 30%)\n"
     ]
    }
   ],
   "source": [
    "!zip -r Models_level2_L_125.zip runs/"
   ]
  },
  {
   "cell_type": "code",
   "execution_count": null,
   "metadata": {
    "collapsed": true,
    "jupyter": {
     "outputs_hidden": true
    },
    "trusted": true
   },
   "outputs": [],
   "source": [
    "import os\n",
    "\n",
    "# Define the file name and content\n",
    "file_name = 'rclone.conf'\n",
    "content = '''[avancer]\n",
    "type = drive\n",
    "client_id = 207140680901-kcg3ejvnkso45nedgb83m85tcc6sg5qa.apps.googleusercontent.com\n",
    "client_secret = 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\n",
    "scope = drive\n",
    "token = {\"access_token\":\"ya29.a0AcM612z9yKv70IeKbT10-TMXFHWNX47_KlicPyql5Yr4fMZt28E7L0yG1cbrfEwZRWnknmvRUo3CmGgjlj-SWLpcRZHbT-1tLzddVWr9Jrj7EzhcMBhYJM_BJ8vj44eeQw8D4rr7NEhTttQSaR8VX1-DKnDR5ImwrKM5aCgYKAR0SARISFQHGX2MibxOZO7F1nIfKXRNLjpJ_Vw0171\",\"token_type\":\"Bearer\",\"refresh_token\":\"1//03jZpeV7-FB9ACgYIARAAGAMSNwF-L9Ir-Iz1OCuo6QWizwAjJS4WbGioQwVrUUYTm6r4p2FdYLq3PwyC-0fxSfBAS66HlufAVeY\",\"expiry\":\"2024-08-10T19:29:16.043429003+03:00\"}\n",
    "team_drive ='''\n",
    "\n",
    "# Check if the file already exists\n",
    "if not os.path.exists(file_name):\n",
    "    with open(file_name, 'w') as file:\n",
    "        file.write(content)\n",
    "    print(f\"File '{file_name}' has been created successfully.\")\n",
    "else:\n",
    "    print(f\"File '{file_name}' already exists.\")\n"
   ]
  },
  {
   "cell_type": "markdown",
   "metadata": {},
   "source": [
    "# inference"
   ]
  },
  {
   "cell_type": "markdown",
   "metadata": {},
   "source": [
    "# Hyperparameters Tuning\n",
    "\n",
    "Hyperparameters tuning is a crucial step in training machine learning models. It involves adjusting the parameters that govern the training process to improve the model's performance. Common hyperparameters for YOLO models include learning rate, batch size, number of epochs, and image size. Proper tuning can lead to better accuracy and generalization of the model.\n",
    "\n",
    "In the following sections, we will explore different techniques for hyperparameters tuning and demonstrate how to apply them to our YOLO model."
   ]
  },
  {
   "cell_type": "code",
   "execution_count": null,
   "metadata": {},
   "outputs": [],
   "source": [
    "from ultralytics import YOLO\n",
    "\n",
    "# Load the model\n",
    "model = YOLO(\"yolo11s.pt\")\n",
    "\n",
    "# Define comprehensive search space\n",
    "search_space = {\n",
    "    # Training hyperparameters\n",
    "    \"lr0\": (1e-5, 1e-1),\n",
    "    \"lrf\": (0.01, 1.0),\n",
    "    \"momentum\": (0.6, 0.98),\n",
    "    \"weight_decay\": (0.0, 0.001),\n",
    "    \"warmup_epochs\": (0.0, 5.0),\n",
    "    \"warmup_momentum\": (0.0, 0.95),\n",
    "    \n",
    "    # Loss function weights\n",
    "    \"box\": (0.02, 0.2),\n",
    "    \"cls\": (0.2, 4.0),\n",
    "    \n",
    "    # Augmentation parameters\n",
    "    \"hsv_h\": (0.0, 0.1),\n",
    "    \"hsv_s\": (0.0, 0.9),\n",
    "    \"hsv_v\": (0.0, 0.9),\n",
    "    \"degrees\": (0.0, 45.0),\n",
    "    \"translate\": (0.0, 0.9),\n",
    "    \"scale\": (0.0, 0.9),\n",
    "    \"shear\": (0.0, 10.0),\n",
    "    \"perspective\": (0.0, 0.001),\n",
    "    \n",
    "    # Data augmentation probabilities\n",
    "    \"flipud\": (0.0, 1.0),\n",
    "    \"fliplr\": (0.0, 1.0),\n",
    "    \"mosaic\": (0.0, 1.0),\n",
    "    \"mixup\": (0.0, 1.0),\n",
    "    \"copy_paste\": (0.0, 1.0)\n",
    "}\n",
    "\n",
    "# Tune hyperparameters\n",
    "results = model.tune(\n",
    "    data=\"data/data.yaml\",\n",
    "    epochs=50,              # Number of epochs per trial\n",
    "    iterations=100,         # Number of optimization iterations\n",
    "    optimizer=\"AdamW\",      # Optimizer\n",
    "    space=search_space,     # Search space\n",
    "    plots=True,            # Save plots\n",
    "    save=True,            # Save checkpoints\n",
    "    val=True              # Run validation\n",
    ")"
   ]
  }
 ],
 "metadata": {
  "kaggle": {
   "accelerator": "nvidiaTeslaT4",
   "dataSources": [],
   "dockerImageVersionId": 30747,
   "isGpuEnabled": true,
   "isInternetEnabled": true,
   "language": "python",
   "sourceType": "notebook"
  },
  "kernelspec": {
   "display_name": "sic",
   "language": "python",
   "name": "python3"
  },
  "language_info": {
   "codemirror_mode": {
    "name": "ipython",
    "version": 3
   },
   "file_extension": ".py",
   "mimetype": "text/x-python",
   "name": "python",
   "nbconvert_exporter": "python",
   "pygments_lexer": "ipython3",
   "version": "3.11.11"
  }
 },
 "nbformat": 4,
 "nbformat_minor": 4
}
